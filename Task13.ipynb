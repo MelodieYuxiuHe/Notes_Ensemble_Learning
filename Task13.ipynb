{
 "cells": [
  {
   "cell_type": "markdown",
   "metadata": {},
   "source": [
    "# Stacking"
   ]
  },
  {
   "cell_type": "markdown",
   "metadata": {},
   "source": [
    "## How does stacking work?"
   ]
  },
  {
   "cell_type": "markdown",
   "metadata": {},
   "source": [
    "1) Generate a Meta-Model - from predictions of set of weak learners (using k-fold cv)\n",
    "\n",
    "2) Train the Meta-Model with a final estimator (a ML model)\n"
   ]
  },
  {
   "cell_type": "markdown",
   "metadata": {},
   "source": [
    "### Steps:\n",
    "\n",
    "Level-0: use weak learners to generate training data for the meta-model. 'Stack' the prediction from each weak learners and that became the training set of the Meta Model\n",
    "\n",
    "Level-1: Train the meta-model"
   ]
  },
  {
   "cell_type": "markdown",
   "metadata": {},
   "source": [
    "### Code Example from Medium-Fernando López "
   ]
  },
  {
   "cell_type": "code",
   "execution_count": 1,
   "metadata": {},
   "outputs": [
    {
     "name": "stdout",
     "output_type": "stream",
     "text": [
      "Train accuracy: 0.9522613065326633\n",
      "Test accuracy: 0.9707602339181286\n"
     ]
    }
   ],
   "source": [
    "import numpy as np\n",
    "from sklearn.datasets import load_breast_cancer\n",
    "from sklearn.model_selection import train_test_split\n",
    "\n",
    "from sklearn.tree import DecisionTreeClassifier\n",
    "from sklearn.ensemble import RandomForestClassifier\n",
    "from sklearn.neighbors import KNeighborsClassifier\n",
    "from sklearn.ensemble import GradientBoostingClassifier\n",
    "from sklearn.naive_bayes import GaussianNB\n",
    "from sklearn.linear_model import LogisticRegression\n",
    "\n",
    "class Ensemble:\n",
    "    def __init__(self):\n",
    "        self.x_train = None\n",
    "        self.x_test = None\n",
    "        self.y_train = None\n",
    "        self.y_test = None\n",
    "        self.k = 5\n",
    "\n",
    "    def load_data(self):\n",
    "        x, y = load_breast_cancer(return_X_y=True)\n",
    "        self.x_train, self.x_test, self.y_train, self.y_test = train_test_split(x, y, test_size=0.3, random_state=23)\n",
    "    \n",
    "    def StackingClassifier(self):\n",
    "\n",
    "        # Define weak learners\n",
    "        weak_learners = [('dt', DecisionTreeClassifier()),\n",
    "                        ('knn', KNeighborsClassifier()),\n",
    "                        ('rf', RandomForestClassifier()),\n",
    "                        ('gb', GradientBoostingClassifier()),\n",
    "                        ('gn', GaussianNB())]\n",
    "        \n",
    "        # Finaler learner or meta model\n",
    "        final_learner = LogisticRegression()\n",
    "\n",
    "        train_meta_model = None\n",
    "        test_meta_model = None\n",
    "\n",
    "        # Start stacking\n",
    "        for clf_id, clf in weak_learners:\n",
    "            # Predictions for each classifier based on k-fold\n",
    "            predictions_clf = self.k_fold_cross_validation(clf)\n",
    "            \n",
    "            # Predictions for test set for each classifier based on train of level 0\n",
    "            test_predictions_clf = self.train_level_0(clf)\n",
    "            \n",
    "            # Stack predictions which will form \n",
    "            # the inputa data for the data model\n",
    "            if isinstance(train_meta_model, np.ndarray):\n",
    "                train_meta_model = np.vstack((train_meta_model, predictions_clf))\n",
    "            else:\n",
    "                train_meta_model = predictions_clf\n",
    "\n",
    "            # Stack predictions from test set\n",
    "            # which will form test data for meta model\n",
    "            if isinstance(test_meta_model, np.ndarray):\n",
    "                test_meta_model = np.vstack((test_meta_model, test_predictions_clf))\n",
    "            else:\n",
    "                test_meta_model = test_predictions_clf\n",
    "        \n",
    "        # Transpose train_meta_model\n",
    "        train_meta_model = train_meta_model.T\n",
    "\n",
    "        # Transpose test_meta_model\n",
    "        test_meta_model = test_meta_model.T\n",
    "        \n",
    "        # Training level 1\n",
    "        self.train_level_1(final_learner, train_meta_model, test_meta_model)\n",
    "\n",
    "\n",
    "    def k_fold_cross_validation(self, clf):\n",
    "        \n",
    "        predictions_clf = None\n",
    "\n",
    "        # Number of samples per fold\n",
    "        batch_size = int(len(self.x_train) / self.k)\n",
    "\n",
    "        # Stars k-fold cross validation\n",
    "        for fold in range(self.k):\n",
    "\n",
    "            # Settings for each batch_size\n",
    "            if fold == (self.k - 1):\n",
    "                test = self.x_train[(batch_size * fold):, :]\n",
    "                batch_start = batch_size * fold\n",
    "                batch_finish = self.x_train.shape[0]\n",
    "            else:\n",
    "                test = self.x_train[(batch_size * fold): (batch_size * (fold + 1)), :]\n",
    "                batch_start = batch_size * fold\n",
    "                batch_finish = batch_size * (fold + 1)\n",
    "            \n",
    "            # test & training samples for each fold iteration\n",
    "            fold_x_test = self.x_train[batch_start:batch_finish, :]\n",
    "            fold_x_train = self.x_train[[index for index in range(self.x_train.shape[0]) if index not in range(batch_start, batch_finish)], :]\n",
    "\n",
    "            # test & training targets for each fold iteration\n",
    "            fold_y_test = self.y_train[batch_start:batch_finish]\n",
    "            fold_y_train = self.y_train[[index for index in range(self.x_train.shape[0]) if index not in range(batch_start, batch_finish)]]\n",
    "\n",
    "            # Fit current classifier\n",
    "            clf.fit(fold_x_train, fold_y_train)\n",
    "            fold_y_pred = clf.predict(fold_x_test)\n",
    "\n",
    "            # Store predictions for each fold_x_test\n",
    "            if isinstance(predictions_clf, np.ndarray):\n",
    "                predictions_clf = np.concatenate((predictions_clf, fold_y_pred))\n",
    "            else:\n",
    "                predictions_clf = fold_y_pred\n",
    "\n",
    "        return predictions_clf\n",
    "\n",
    "    def train_level_0(self, clf):\n",
    "        # Train in full real training set\n",
    "        clf.fit(self.x_train, self.y_train)\n",
    "        # Get predictions from full real test set\n",
    "        y_pred = clf.predict(self.x_test)\n",
    "        \n",
    "        return y_pred\n",
    "\n",
    "    def train_level_1(self, final_learner, train_meta_model, test_meta_model):\n",
    "        # Train is carried out with final learner or meta model\n",
    "        final_learner.fit(train_meta_model, self.y_train)\n",
    "        # Getting train and test accuracies from meta_model\n",
    "        print(f\"Train accuracy: {final_learner.score(train_meta_model,  self.y_train)}\")\n",
    "        print(f\"Test accuracy: {final_learner.score(test_meta_model, self.y_test)}\")\n",
    "        \n",
    "\n",
    "if __name__ == \"__main__\":\n",
    "    ensemble = Ensemble()\n",
    "    ensemble.load_data()\n",
    "    ensemble.StackingClassifier()"
   ]
  },
  {
   "cell_type": "markdown",
   "metadata": {},
   "source": [
    "### Code Example from DataWhale"
   ]
  },
  {
   "cell_type": "code",
   "execution_count": 6,
   "metadata": {},
   "outputs": [
    {
     "name": "stdout",
     "output_type": "stream",
     "text": [
      "3-fold cross validation:\n",
      "\n",
      "Accuracy: 0.91 (+/- 0.01) [KNN]\n",
      "Accuracy: 0.95 (+/- 0.01) [Random Forest]\n",
      "Accuracy: 0.91 (+/- 0.02) [NaiveBayes]\n",
      "Accuracy: 0.93 (+/- 0.02) [StackingClassifier]\n"
     ]
    }
   ],
   "source": [
    "from sklearn import datasets\n",
    "iris = datasets.load_iris()\n",
    "X, y = iris.data[:, 1:3], iris.target\n",
    "from sklearn.model_selection import cross_val_score\n",
    "from sklearn.linear_model import LogisticRegression\n",
    "from sklearn.neighbors import KNeighborsClassifier\n",
    "from sklearn.naive_bayes import GaussianNB\n",
    "from sklearn.ensemble import RandomForestClassifier\n",
    "from mlxtend.classifier import StackingCVClassifier\n",
    "RANDOM_SEED = 42\n",
    "clf1 = KNeighborsClassifier(n_neighbors=1)\n",
    "clf2 = RandomForestClassifier(random_state=RANDOM_SEED)\n",
    "clf3 = GaussianNB()\n",
    "lr = LogisticRegression()\n",
    "# Starting from v0.16.0, StackingCVRegressor supports\n",
    "# `random_state` to get deterministic result.\n",
    "sclf = StackingCVClassifier(classifiers=[clf1, clf2, clf3], # 第一层分类器\n",
    "meta_classifier=lr, # 第二层分类器\n",
    "random_state=RANDOM_SEED)\n",
    "print('3-fold cross validation:\\n')\n",
    "for clf, label in zip([clf1, clf2, clf3, sclf], ['KNN', 'Random Forest', 'NaiveBayes','StackingClassifier']):\n",
    "    scores = cross_val_score(clf, X, y, cv=3, scoring='accuracy')\n",
    "    print(\"Accuracy: %0.2f (+/- %0.2f) [%s]\" % (scores.mean(), scores.std(), label))"
   ]
  },
  {
   "cell_type": "code",
   "execution_count": 9,
   "metadata": {},
   "outputs": [
    {
     "data": {
      "image/png": "[encoded data removed]",
      "text/plain": [
       "<Figure size 720x576 with 4 Axes>"
      ]
     },
     "metadata": {
      "needs_background": "light"
     },
     "output_type": "display_data"
    }
   ],
   "source": [
    "#Decision Boundary\n",
    "from mlxtend.plotting import plot_decision_regions\n",
    "import matplotlib.gridspec as gridspec\n",
    "import itertools\n",
    "import matplotlib.pyplot as plt\n",
    "\n",
    "gs = gridspec.GridSpec(2, 2)\n",
    "fig = plt.figure(figsize=(10,8))\n",
    "for clf, lab, grd in zip([clf1, clf2, clf3, sclf],['KNN','Random Forest','Naive Bayes','StackingCVClassifier'],itertools.product([0, 1], repeat=2)):\n",
    "    clf.fit(X, y)\n",
    "    ax = plt.subplot(gs[grd[0], grd[1]])\n",
    "    fig = plot_decision_regions(X=X, y=y, clf=clf)\n",
    "    plt.title(lab)\n",
    "plt.show()"
   ]
  },
  {
   "cell_type": "code",
   "execution_count": 12,
   "metadata": {},
   "outputs": [
    {
     "name": "stdout",
     "output_type": "stream",
     "text": [
      "3-fold cross validation:\n",
      "\n",
      "Accuracy: 0.91 (+/- 0.01) [KNN]\n",
      "Accuracy: 0.95 (+/- 0.01) [Random Forest]\n",
      "Accuracy: 0.91 (+/- 0.02) [Naive Bayes]\n",
      "Accuracy: 0.95 (+/- 0.02) [StackingClassifier]\n"
     ]
    }
   ],
   "source": [
    "clf1 = KNeighborsClassifier(n_neighbors=1)\n",
    "clf2 = RandomForestClassifier(random_state=1)\n",
    "clf3 = GaussianNB()\n",
    "lr = LogisticRegression()\n",
    "sclf = StackingCVClassifier(classifiers=[clf1, clf2, clf3],\n",
    "use_probas=True, #\n",
    "meta_classifier=lr,\n",
    "random_state=42)\n",
    "print('3-fold cross validation:\\n')\n",
    "for clf, label in zip([clf1, clf2, clf3, sclf],['KNN','Random Forest','Naive Bayes','StackingClassifier']):\n",
    "    scores = cross_val_score(clf, X, y, cv=3, scoring='accuracy')\n",
    "    print(\"Accuracy: %0.2f (+/- %0.2f) [%s]\"% (scores.mean(), scores.std(), label))"
   ]
  },
  {
   "cell_type": "code",
   "execution_count": null,
   "metadata": {},
   "outputs": [],
   "source": []
  },
  {
   "cell_type": "code",
   "execution_count": null,
   "metadata": {},
   "outputs": [],
   "source": []
  },
  {
   "cell_type": "markdown",
   "metadata": {},
   "source": [
    "References:\n",
    "    \n",
    "Ensemble Learning: Stacking, Blending & Voting: https://towardsdatascience.com/ensemble-learning-stacking-blending-voting-b37737c4f483\n",
    "\n",
    "Datawhale: https://github.com/datawhalechina/team-learning-data-mining/tree/master/EnsembleLearning"
   ]
  }
 ],
 "metadata": {
  "kernelspec": {
   "display_name": "Python 3",
   "language": "python",
   "name": "python3"
  },
  "language_info": {
   "codemirror_mode": {
    "name": "ipython",
    "version": 3
   },
   "file_extension": ".py",
   "mimetype": "text/x-python",
   "name": "python",
   "nbconvert_exporter": "python",
   "pygments_lexer": "ipython3",
   "version": "3.7.4"
  }
 },
 "nbformat": 4,
 "nbformat_minor": 2
}
