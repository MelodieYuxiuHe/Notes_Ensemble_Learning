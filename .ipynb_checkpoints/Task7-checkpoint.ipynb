{
 "cells": [
  {
   "cell_type": "markdown",
   "metadata": {},
   "source": [
    "# Voting"
   ]
  },
  {
   "cell_type": "markdown",
   "metadata": {},
   "source": [
    "Why we need voting?\n",
    "- Equally treat each model, use 'voting' method to get the final result\n",
    "- Reduce the risk of simply employing one model?\n",
    "- For most cases, the variance will be smaller after voting\n"
   ]
  },
  {
   "cell_type": "markdown",
   "metadata": {},
   "source": [
    "## Voting in Regression Model\n",
    "The average predicted value of all the models. (Without assigning  weights on models)"
   ]
  },
  {
   "cell_type": "markdown",
   "metadata": {},
   "source": [
    "## Voting in Classification Model\n",
    "\n",
    "Count what appeared 'most'. 'Most' has different definitions among hard and soft voting context.\n",
    "\n",
    "### Hard Voting:\n",
    "Simply consider the number of labels that are predicted most. \n",
    "\n",
    "For example, 5 models, label A and B, if 3 models predicted B, the result from hard voting will be B.\n",
    "\n",
    "### Soft Voting:\n",
    "Soft voting sum the probability from each model for each label.\n",
    "For example, label A and B, model 1: A: 80%, B: 20%; model 2: A: 65%, B: 35%; model 3: A: 10%, B: 90%\n",
    "\n",
    "We have category A: 80% + 65% + 10% = 155%\n",
    "category B: 20% + 35% + 90% = 145%\n",
    "\n",
    "Using soft voting, we will go for the prediction of A\n",
    "\n",
    "### Comment on Soft and Hard Voting:\n",
    "soft and hard voting may generate completely different results. Soft voting generally generate more accurate result for considering the 'probability'.\n"
   ]
  },
  {
   "cell_type": "markdown",
   "metadata": {},
   "source": [
    " ## What should I consider when using voting method?\n",
    " \n",
    "### Models\n",
    "- There shouldn't be significant difference among models performance, otherwise there will be noise in the ensembled model.\n",
    " \n",
    "- Voting among a linear model and a tree model generally will be better than voting among linear models or among tree models\n",
    " \n",
    "### When to use hard/soft voting?\n",
    "\n",
    "- Hard voting: when there are only clear label of the prediction result\n",
    "- Soft voting: when 'score' such as probability or prediction score are available in the model (SVM, KNN, Decision Tree)"
   ]
  },
  {
   "cell_type": "markdown",
   "metadata": {},
   "source": [
    "## Comment on Voting\n",
    "Voting treat each model EQUALLY. When a model perform well under one circumstance, and perform poor under another, voting may not be the best method to ensenble models."
   ]
  },
  {
   "cell_type": "code",
   "execution_count": null,
   "metadata": {},
   "outputs": [],
   "source": []
  }
 ],
 "metadata": {
  "kernelspec": {
   "display_name": "Python 3",
   "language": "python",
   "name": "python3"
  },
  "language_info": {
   "codemirror_mode": {
    "name": "ipython",
    "version": 3
   },
   "file_extension": ".py",
   "mimetype": "text/x-python",
   "name": "python",
   "nbconvert_exporter": "python",
   "pygments_lexer": "ipython3",
   "version": "3.7.4"
  }
 },
 "nbformat": 4,
 "nbformat_minor": 4
}
