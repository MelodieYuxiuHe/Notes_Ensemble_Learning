{
 "cells": [
  {
   "cell_type": "markdown",
   "metadata": {},
   "source": [
    "# XG-Boosting and LightGBM"
   ]
  },
  {
   "cell_type": "markdown",
   "metadata": {},
   "source": [
    "## XG-Boost\n",
    "\n",
    "A decision-tree based ensemble Machine Learning Algorithm using a gradient boosting framework."
   ]
  },
  {
   "cell_type": "markdown",
   "metadata": {},
   "source": [
    "- Can be used for regression, classification, ranking and user-defined prediction problems\n",
    "- Use both L1 and L2 regularization to prevent overfitting\n",
    "- Can handle sparse data (missing values/data sparse caused by one-hot encoding)\n",
    "- Parallel learning (faster computing time)"
   ]
  },
  {
   "cell_type": "markdown",
   "metadata": {},
   "source": [
    "## XG-Boost application"
   ]
  },
  {
   "cell_type": "markdown",
   "metadata": {},
   "source": [
    "### Read Data"
   ]
  },
  {
   "cell_type": "code",
   "execution_count": 5,
   "metadata": {},
   "outputs": [],
   "source": [
    "import xgboost as xgb\n",
    "\n",
    "#The data read into XG-Boost is a DMatrix, a CSV can be transformed into such object using the code\n",
    "\n",
    "# dtrain = xgb.DMatrix('train.csv?format=csv&label_column=0')\n",
    "# dtest = xgb.DMatrix('test.csv?format=csv&label_column=0')\n",
    "\n",
    "dtrain = xgb.DMatrix('/Users/Melodie/Downloads/2021Spring/Study/DataWhale/April_Ensembled_Learning/Notes_Ensemble_Learning/Data/agaricus.txt.test') \n",
    "dtest = xgb.DMatrix('/Users/Melodie/Downloads/2021Spring/Study/DataWhale/April_Ensembled_Learning/Notes_Ensemble_Learning/Data/agaricus.txt.test') \n"
   ]
  },
  {
   "cell_type": "markdown",
   "metadata": {},
   "source": [
    "### Set Model Parameter"
   ]
  },
  {
   "cell_type": "code",
   "execution_count": 25,
   "metadata": {},
   "outputs": [],
   "source": [
    "#Max_depth \n",
    "#Objective: specify the prediction problem you want to work on (others like reg:squarederror/count:poisson/multi:softmax)\n",
    "#Eta: learning rate\n",
    "#Eval_metric: evaluation metrics\n",
    "\n",
    "param = {'max_depth':2, 'objective':'binary:logistic', 'eta': 0.1, 'eval_metric' :'logloss'} \n",
    "num_round = 2 "
   ]
  },
  {
   "cell_type": "markdown",
   "metadata": {},
   "source": [
    "### Train the model"
   ]
  },
  {
   "cell_type": "code",
   "execution_count": 26,
   "metadata": {},
   "outputs": [
    {
     "name": "stdout",
     "output_type": "stream",
     "text": [
      "[0]\teval-logloss:0.61417\ttrain-logloss:0.61417\n",
      "[1]\teval-logloss:0.54939\ttrain-logloss:0.54939\n"
     ]
    }
   ],
   "source": [
    "#Define evaluation standard\n",
    "evallist = [(dtest, 'eval'), (dtrain, 'train')]\n",
    "bst = xgb.train(param, dtrain, num_round,evallist)"
   ]
  },
  {
   "cell_type": "markdown",
   "metadata": {},
   "source": [
    "### Prediction"
   ]
  },
  {
   "cell_type": "code",
   "execution_count": 29,
   "metadata": {},
   "outputs": [],
   "source": [
    "preds = bst.predict(dtest)"
   ]
  },
  {
   "cell_type": "markdown",
   "metadata": {},
   "source": [
    "## XG-Boost Parameters"
   ]
  },
  {
   "cell_type": "markdown",
   "metadata": {},
   "source": [
    "### General Parameter"
   ]
  },
  {
   "cell_type": "markdown",
   "metadata": {},
   "source": [
    "Booster: which weak learner to use to train (default gbtree)\n",
    "nthread: Number of parallel threads used to run XGBoost (default max)\n",
    "verbosity: Verbosity of printing messages"
   ]
  },
  {
   "cell_type": "markdown",
   "metadata": {},
   "source": [
    "### Tree Booster\n",
    "\n",
    "eta: learning rate\n",
    "\n",
    "gamma: (min_split_loss)larger gamma, more conservative the algorithm will be (more uneasily to overfit)\n",
    "\n",
    "max_depth: increase max_depth will lead to potential overfitting (default 6)\n",
    "\n",
    "lambda: regularization\n",
    "\n"
   ]
  },
  {
   "cell_type": "markdown",
   "metadata": {},
   "source": [
    "### Learning Task Parameters\n",
    "objective: reg:squarederror/reg:logistic/binary:logistic/count:poisson/survival:cox\n",
    "\n",
    "eval_metric:rmse/rmsle/mae/mphe/logloss/error; merror/mlogloss/auc/ndgc\n",
    "\n",
    "seed: random state"
   ]
  },
  {
   "cell_type": "markdown",
   "metadata": {},
   "source": [
    "## LightGBM"
   ]
  },
  {
   "cell_type": "markdown",
   "metadata": {},
   "source": [
    "- Higher training efficiency\n",
    "- Lower RAM\n",
    "- Higher accuracy\n"
   ]
  },
  {
   "cell_type": "code",
   "execution_count": null,
   "metadata": {},
   "outputs": [],
   "source": []
  },
  {
   "cell_type": "markdown",
   "metadata": {},
   "source": [
    "References: \n",
    "\n",
    "XGBoost Algorithm: Long May She Reign!:\n",
    "https://towardsdatascience.com/https-medium-com-vishalmorde-xgboost-algorithm-long-she-may-rein-edd9f99be63d?source=bookmarks---------0----------------------------\n",
    "\n",
    "XGBoost Python Package:\n",
    "https://xgboost.readthedocs.io/en/latest/python/python_intro.html"
   ]
  }
 ],
 "metadata": {
  "kernelspec": {
   "display_name": "Python 3",
   "language": "python",
   "name": "python3"
  },
  "language_info": {
   "codemirror_mode": {
    "name": "ipython",
    "version": 3
   },
   "file_extension": ".py",
   "mimetype": "text/x-python",
   "name": "python",
   "nbconvert_exporter": "python",
   "pygments_lexer": "ipython3",
   "version": "3.7.4"
  }
 },
 "nbformat": 4,
 "nbformat_minor": 4
}
