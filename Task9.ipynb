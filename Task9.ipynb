{
 "cells": [
  {
   "cell_type": "markdown",
   "metadata": {},
   "source": [
    "# Boosting"
   ]
  },
  {
   "cell_type": "markdown",
   "metadata": {},
   "source": [
    "### Definition:\n",
    "\n",
    "Ensemble meta-algorithm\n",
    "\n",
    "Reduce bias and variance\n",
    "\n",
    "Supervised Learning\n",
    "\n",
    "Convert weak learner to strong learner\n",
    "\n",
    "### Applications:\n",
    "Adaptive Boosting\n",
    "\n",
    "Gradient Boosting\n",
    "\n",
    "Xgboost\n",
    "\n",
    "LightGBM\n",
    "\n",
    "Catboost\n",
    "\n",
    "Adaboost"
   ]
  },
  {
   "cell_type": "markdown",
   "metadata": {},
   "source": [
    "### Why boosting and what's its difference with bagging?\n",
    "\n",
    "Bagging: different training samples, 'same' base model on different training sample, vote to make prediction. Reduce variance.\n",
    "\n",
    "Boosting: train different models on same training sample, reduce bias through assigning weights, ensemble those models to make prediction. Reduce bias."
   ]
  },
  {
   "cell_type": "markdown",
   "metadata": {},
   "source": [
    "### Weak Learner and Strong Learner\n",
    "Weak learner: categorizing slightlly better than random guess\n",
    "\n",
    "Strong learner: a classifier that is arbitrarily well-correlated with the true classification/Can finish in polynomial time\n"
   ]
  },
  {
   "cell_type": "markdown",
   "metadata": {},
   "source": [
    "### Two questions for boosting algorithm?\n",
    "\n",
    "- Every round of learning, how to change the probability distribution of the training data\n",
    "\n",
    "- How to integrate the results of weak learners"
   ]
  },
  {
   "cell_type": "markdown",
   "metadata": {},
   "source": [
    "## Adaboost"
   ]
  },
  {
   "cell_type": "markdown",
   "metadata": {},
   "source": []
  },
  {
   "cell_type": "code",
   "execution_count": null,
   "metadata": {},
   "outputs": [],
   "source": []
  }
 ],
 "metadata": {
  "kernelspec": {
   "display_name": "Python 3",
   "language": "python",
   "name": "python3"
  },
  "language_info": {
   "codemirror_mode": {
    "name": "ipython",
    "version": 3
   },
   "file_extension": ".py",
   "mimetype": "text/x-python",
   "name": "python",
   "nbconvert_exporter": "python",
   "pygments_lexer": "ipython3",
   "version": "3.7.4"
  }
 },
 "nbformat": 4,
 "nbformat_minor": 2
}
